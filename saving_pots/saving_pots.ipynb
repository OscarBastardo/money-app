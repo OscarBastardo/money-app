{
  "cells": [
    {
      "cell_type": "markdown",
      "metadata": {
        "colab_type": "text",
        "id": "view-in-github"
      },
      "source": [
        "<a href=\"https://colab.research.google.com/github/OscarBastardo/saving-pots/blob/main/saving_pots.ipynb\" target=\"_parent\"><img src=\"https://colab.research.google.com/assets/colab-badge.svg\" alt=\"Open In Colab\"/></a>"
      ]
    },
    {
      "cell_type": "markdown",
      "metadata": {
        "id": "wz4OvMXHLCWv"
      },
      "source": [
        "# Saving Pots for Bastardo-Jones\n",
        "\n",
        "## About this notebook\n",
        "\n",
        "Rose and Oscar want to implement a *Saving Pots* system, whereby we split the money we save each month into pots, one for each area of our lives. So far we are considering\n",
        "the following pots:\n",
        "1. New house\n",
        "2. Current house\n",
        "3. New and current car\n",
        "4. Children\n",
        "5. Holidays\n",
        "6. Wedding\n",
        "7. Family\n",
        "8. Investment\n",
        "\n",
        "We may add more pots in the future.\n",
        "\n",
        "We we will spend proportionally to the amount of money we save per month.\n",
        "\n",
        "This notebook is intended to manage the saving pots.\n",
        "\n",
        "## Saving accounts and investments\n",
        "We decided it is best to have actual saving accounts where we can send some money *away*. So far we think two accounts, a higher-yielding one without withdrawals and a\n",
        "lower-interest one that is easy to withdraw from.\n",
        "\n",
        "Easy access:\n",
        "- Current house\n",
        "- New and current car\n",
        "- Children\n",
        "- Holidays\n",
        "- Family\n",
        "\n",
        "High-yield:\n",
        "- New house\n",
        "- Wedding\n",
        "\n",
        "Additionally, money to invest should be sent somewhere else or converted into appreciating assets.\n",
        "\n",
        "## Techincal Challenges\n",
        "1. How can we maintain the integrity of ground truth data?"
      ]
    },
    {
      "cell_type": "markdown",
      "metadata": {
        "id": "OLOIHnMeR7KX"
      },
      "source": [
        "## Back-of-the-envelope projection"
      ]
    },
    {
      "cell_type": "code",
      "execution_count": null,
      "metadata": {
        "colab": {
          "base_uri": "https://localhost:8080/",
          "height": 959
        },
        "id": "JIF3_PVFKAXx",
        "outputId": "22da64bd-3346-4f23-f0a9-318150be624b"
      },
      "outputs": [
        {
          "ename": "",
          "evalue": "",
          "output_type": "error",
          "traceback": [
            "\u001b[1;31mRunning cells with '.venv' requires the ipykernel package.\n",
            "\u001b[1;31mRun the following command to install 'ipykernel' into the Python environment. \n",
            "\u001b[1;31mCommand: '/Users/oscar/Projects/Python/saving-pots/.venv/bin/python -m pip install ipykernel -U --force-reinstall'"
          ]
        }
      ],
      "source": [
        "import numpy as np\n",
        "import pandas as pd\n",
        "import pytest\n",
        "\n",
        "# current savings as of 03/12/2023\n",
        "rose_current_savings = 23600\n",
        "oscar_current_savings = 10000\n",
        "household_current_savings = rose_current_savings + oscar_current_savings\n",
        "\n",
        "# money in a month\n",
        "rose_takehome_month = 2500\n",
        "oscar_takehome_month = 4500\n",
        "household_income_month = rose_takehome_month + oscar_takehome_month\n",
        "\n",
        "# money out a month\n",
        "expenses_month = 3200\n",
        "\n",
        "# share of expenses\n",
        "rose_expenses_share = rose_takehome_month / household_income_month\n",
        "oscar_expenses_share = oscar_takehome_month / household_income_month\n",
        "assert  pytest.approx(rose_expenses_share + oscar_expenses_share) == 1\n",
        "\n",
        "\n",
        "# monthly surplus after paying expenses\n",
        "rose_surplus_month = rose_takehome_month - expenses_month * rose_expenses_share\n",
        "oscar_surplus_month = oscar_takehome_month - expenses_month * oscar_expenses_share\n",
        "household_surplus_month = household_income_month - expenses_month\n",
        "assert pytest.approx(rose_surplus_month + oscar_surplus_month) == household_surplus_month\n",
        "\n",
        "# pocket money a month\n",
        "rose_pocket_money_month = 500\n",
        "oscar_pocket_money_month = 500\n",
        "\n",
        "# money saved a month\n",
        "rose_savings_month = rose_surplus_month - rose_pocket_money_month\n",
        "oscar_savings_month = oscar_surplus_month - oscar_pocket_money_month\n",
        "household_savings_month = rose_savings_month + oscar_savings_month\n",
        "\n",
        "# shares for current savings\n",
        "current_savings_shares = {\n",
        "    \"car\": 0.45,\n",
        "    \"wedding\": 0.35,\n",
        "    \"new_house\": 0.20,\n",
        "}\n",
        "\n",
        "assert pytest.approx(sum(current_savings_shares.values())) == 1\n",
        "\n",
        "# shares of monthly savings\n",
        "savings_shares = {\n",
        "    \"new_house\" : 0.30,\n",
        "    \"current_house\": 0.15,\n",
        "    \"car\": 0.15,\n",
        "    \"holiday\": 0.10,\n",
        "    \"wedding\": 0.10,\n",
        "    \"investment\": 0.10,\n",
        "    \"children\": 0.05,\n",
        "    \"family\": 0.05,\n",
        "}\n",
        "assert pytest.approx(sum(savings_shares.values())) == 1\n",
        "\n",
        "# saving pots\n",
        "saving_pots = [\"new_house\", \"current_house\", \"car\",  \"holiday\", \"wedding\", \"investment\", \"children\", \"family\"]\n",
        "# urgent saving pots\n",
        "urgent_saving_pots = [\"new_house\", \"car\", \"wedding\"]\n",
        "\n",
        "# savings projection\n",
        "savings_df = pd.DataFrame(columns=saving_pots)\n",
        "## current savings split\n",
        "savings_df.loc[0] = [household_current_savings * current_savings_shares[pot] if pot in urgent_saving_pots else 0 for pot in saving_pots]\n",
        "## monthly savings projection\n",
        "time_range = range(1,29)\n",
        "for i in time_range:\n",
        "  savings_df.loc[i] = [savings_df.loc[i-1][pot] + household_savings_month * savings_shares[pot] for pot in saving_pots]\n",
        "# et voilá\n",
        "savings_df"
      ]
    },
    {
      "cell_type": "markdown",
      "metadata": {
        "id": "wOpub5sS1fQe"
      },
      "source": [
        "## Decemeber 2023\n",
        "\n",
        "TODO:\n",
        "- [ ] Declare current savings\n",
        "- [ ] Open accounts"
      ]
    },
    {
      "cell_type": "code",
      "execution_count": null,
      "metadata": {
        "id": "o02NGYYtWTTl"
      },
      "outputs": [],
      "source": []
    }
  ],
  "metadata": {
    "colab": {
      "authorship_tag": "ABX9TyM9tEjcGAAGz/8k5E8b6pKm",
      "include_colab_link": true,
      "provenance": []
    },
    "kernelspec": {
      "display_name": "Python 3",
      "name": "python3"
    },
    "language_info": {
      "codemirror_mode": {
        "name": "ipython",
        "version": 3
      },
      "file_extension": ".py",
      "mimetype": "text/x-python",
      "name": "python",
      "nbconvert_exporter": "python",
      "pygments_lexer": "ipython3",
      "version": "3.10.10"
    }
  },
  "nbformat": 4,
  "nbformat_minor": 0
}
