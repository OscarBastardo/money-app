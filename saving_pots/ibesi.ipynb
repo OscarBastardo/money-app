{
 "cells": [
  {
   "cell_type": "markdown",
   "metadata": {},
   "source": [
    "# IBESI\n",
    "\n",
    "**IBESI** is an all-encompassing money management system for Oscar and Rose. It stands for:\n",
    "- **I**ncome\n",
    "- **B**ills\n",
    "- **E**xpenses\n",
    "- **S**avings\n",
    "- **I**nvestments\n",
    "\n",
    "These are the key financial areas this system supports.\n",
    "\n",
    "## Financial Areas\n",
    "### Income\n",
    "Income refers to any source of money coming to us. The most obvious instance of income is our salaries.\n",
    "\n",
    "### Bills\n",
    "Bills are the payments performed in cycles. These include mortgage, utility bills and similar.\n",
    "\n",
    "### Expenses\n",
    "Expenses are any ad-hoc payments for goods or services. These include food, cleaning and shopping.\n",
    "\n",
    "### Savings\n",
    "This is the share of money left after using our income to pay for bills and expenses that is saved.\n",
    "\n",
    "### Investments\n",
    "This is the share of money left after savings that is put back in the market to generate a return.\n",
    "\n",
    "## Money Pipeline\n",
    "The money processing pipeline is as shown below.\n",
    "\n",
    "<!-- ![pipeline](ibesi-pipeline.png) -->\n",
    "\n",
    "\n",
    "## Components\n",
    "The components are the steps of the money pipeline. These operations are part of the core logic of the system and should not be modified without a system design review.\n",
    "\n",
    "## Input Data\n",
    "- Income amount\n",
    "- Savings accumulated\n",
    "- Bills for the past month\n",
    "- Expenses for the past month\n",
    "\n",
    "## Parameters\n",
    "Parameters are the parts of the system we can modify to make it work for our financial situation and expectations. These include:\n",
    "- Saving pots and shares for each of them\n",
    "- How bills and expenses are split between us"
   ]
  },
  {
   "cell_type": "code",
   "execution_count": 3,
   "metadata": {},
   "outputs": [
    {
     "name": "stdout",
     "output_type": "stream",
     "text": [
      "33600\n",
      "(0.6584251545283526, 0.3415748454716474)\n",
      "2641.95\n",
      "715.53\n",
      "3357.4799999999996\n"
     ]
    }
   ],
   "source": [
    "from data.D2312 import INPUTS, PARAMS \n",
    "\n",
    "def inspect_inputs_dict():\n",
    "    pass\n",
    "\n",
    "def inspect_params_dict():\n",
    "    pass\n",
    "\n",
    "def get_current_savings(inputs):\n",
    "    return sum(sum(source.values()) for source in inputs[\"savings\"].values())\n",
    "\n",
    "def get_bills_total(inputs):\n",
    "    return (sum(sum(source.values()) for source in inputs[\"bills\"].values()))\n",
    "\n",
    "def get_expenses_total(inputs):\n",
    "    return (sum(sum(source.values()) for source in inputs[\"expenses\"].values()))\n",
    "\n",
    "def get_spending_total(inputs):\n",
    "    return get_bills_total(inputs) + get_expenses_total(inputs)\n",
    "\n",
    "def get_split_percentage(inputs, params):\n",
    "    if params[\"split\"] == \"proportional_to_income\":\n",
    "        income_oscar = sum(source[\"oscar\"] for source in inputs[\"income\"].values())\n",
    "        income_rose = sum(source[\"rose\"] for source in inputs[\"income\"].values())\n",
    "        split_percentage_oscar = income_oscar / (income_oscar + income_rose)\n",
    "        split_percentage_rose = income_rose / (income_oscar + income_rose)\n",
    "        return split_percentage_oscar, split_percentage_rose\n",
    "    else:\n",
    "        raise ValueError(\"split mode not supported\")\n",
    "\n",
    "def get_split_difference():\n",
    "    pass\n",
    "\n",
    "print(get_current_savings(INPUTS))\n",
    "print(get_split_percentage(INPUTS, PARAMS))\n",
    "print(get_bills_total(INPUTS))\n",
    "print(get_expenses_total(INPUTS))\n",
    "print(get_bills_total(INPUTS) + get_expenses_total(INPUTS))"
   ]
  }
 ],
 "metadata": {
  "kernelspec": {
   "display_name": ".venv",
   "language": "python",
   "name": "python3"
  },
  "language_info": {
   "codemirror_mode": {
    "name": "ipython",
    "version": 3
   },
   "file_extension": ".py",
   "mimetype": "text/x-python",
   "name": "python",
   "nbconvert_exporter": "python",
   "pygments_lexer": "ipython3",
   "version": "3.10.10"
  }
 },
 "nbformat": 4,
 "nbformat_minor": 2
}
