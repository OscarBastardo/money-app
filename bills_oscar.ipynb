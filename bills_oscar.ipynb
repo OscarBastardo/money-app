{
 "cells": [
  {
   "cell_type": "code",
   "execution_count": 1,
   "metadata": {},
   "outputs": [
    {
     "data": {
      "text/plain": [
       "1944.08"
      ]
     },
     "execution_count": 1,
     "metadata": {},
     "output_type": "execute_result"
    }
   ],
   "source": [
    "personal_debit_card = [\n",
    "    333.51, # Monitor\n",
    "    4.60, # Google Domains\n",
    "    99.53, # Phone contract\n",
    "    453.06, # TV\n",
    "    # 302.99, # Diana\n",
    "]\n",
    "\n",
    "personal_credit_card = [\n",
    "    96.34, # NordVPN\n",
    "    1.01, # AWS\n",
    "    4.99, # Apple Store Purchase\n",
    "    15.28, # Interest\n",
    "    12.99, # Corner Shop\n",
    "    10.70, # Electric First\n",
    "    38.00, # Amazon\n",
    "    18.89, # ChatGPT\n",
    "    15.76, # Amazon\n",
    "    32.99, # PlayStation\n",
    "    42.47, # Amazon\n",
    "    31.49, # Amazon\n",
    "    105.98, # Amazon\n",
    "    21.97, # Amazon\n",
    "    10.00, # PlayStation\n",
    "    17.95, # Amazon\n",
    "    6.20, # TFL\n",
    "    52.31, # Food\n",
    "    17.00, # Post Office Museum\n",
    "    54.95, # Amazon\n",
    "    10.11, # Amazon\n",
    "]\n",
    "\n",
    "personal_monzo = [\n",
    "    71.00, # Trainline\n",
    "    18.00, # Claude\n",
    "    100.00, # Coinbase\n",
    "    19.00, # Tesco\n",
    "    3.00, # Tesco\n",
    "    83.00, # Amazon\n",
    "    21.00, # Uber Eats\n",
    "    20.00, # Uber Eats\n",
    "    17.00, # Corner Shop\n",
    "    6.00, # Etsy\n",
    "    34.00, # Breakfast\n",
    "    8.00, # Train food\n",
    "    9.00, # Uber\n",
    "    2.00, # TfL\n",
    "    7.00, # Sainsbury's\n",
    "    18.00, # Corner Shop\n",
    "]\n",
    "\n",
    "sum(personal_credit_card + personal_monzo + personal_debit_card)"
   ]
  },
  {
   "cell_type": "code",
   "execution_count": 4,
   "metadata": {},
   "outputs": [
    {
     "data": {
      "text/plain": [
       "165"
      ]
     },
     "execution_count": 4,
     "metadata": {},
     "output_type": "execute_result"
    }
   ],
   "source": [
    "money_needed_for_bills_and_subscriptions = [\n",
    "5,\n",
    "8,\n",
    "15,\n",
    "18,\n",
    "20,\n",
    "99,\n",
    "]\n",
    "sum(money_needed_for_bills_and_subscriptions)"
   ]
  },
  {
   "cell_type": "code",
   "execution_count": 1,
   "metadata": {},
   "outputs": [
    {
     "name": "stdout",
     "output_type": "stream",
     "text": [
      "95.09\n",
      "97.19\n"
     ]
    }
   ],
   "source": [
    "shopping = [\n",
    "    11.10, # Sainsbury's\n",
    "    44.09, # Sainsbury's\n",
    "    11.40, # Almond milk\n",
    "    28.50, # Soda Stream\n",
    "]\n",
    "\n",
    "freya = [\n",
    "    9.00, # Wipes\n",
    "    32.39, # Wet food    \n",
    "    55.80, # Dry food\n",
    "]\n",
    "\n",
    "\n",
    "print(sum(shopping))\n",
    "print(sum(freya))"
   ]
  },
  {
   "cell_type": "code",
   "execution_count": 2,
   "metadata": {},
   "outputs": [
    {
     "data": {
      "text/plain": [
       "101.4"
      ]
     },
     "execution_count": 2,
     "metadata": {},
     "output_type": "execute_result"
    }
   ],
   "source": [
    "50.7 * 2"
   ]
  },
  {
   "cell_type": "code",
   "execution_count": null,
   "metadata": {},
   "outputs": [],
   "source": []
  }
 ],
 "metadata": {
  "kernelspec": {
   "display_name": ".venv",
   "language": "python",
   "name": "python3"
  },
  "language_info": {
   "codemirror_mode": {
    "name": "ipython",
    "version": 3
   },
   "file_extension": ".py",
   "mimetype": "text/x-python",
   "name": "python",
   "nbconvert_exporter": "python",
   "pygments_lexer": "ipython3",
   "version": "3.10.10"
  }
 },
 "nbformat": 4,
 "nbformat_minor": 2
}
