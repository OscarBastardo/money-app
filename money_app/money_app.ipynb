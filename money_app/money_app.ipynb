{
 "cells": [
  {
   "cell_type": "markdown",
   "metadata": {},
   "source": [
    "# Money App\n",
    "\n",
    "This notebook is to design and develop all-encompassing money management system for Oscar and Rose.\n",
    "\n",
    "\n",
    "## How to Use\n",
    "1. Create a file in the `data` directory with the name format `[D]YYMM.py` for the month due for processing.\n",
    "2. Fill out the `[D]YYMM.py` file with the relevant information.\n",
    "3. Run the `get_split_difference`, `get_saving_pots_contribution_per_account` and `get_saving_pots_projection_df` functions from the `money_app` module."
   ]
  },
  {
   "cell_type": "markdown",
   "metadata": {},
   "source": [
    "## January 2024"
   ]
  },
  {
   "cell_type": "code",
   "execution_count": null,
   "metadata": {},
   "outputs": [],
   "source": [
    "from functions import get_split_difference, get_saving_pots_contribution_per_account, get_saving_pots_projection_df\n",
    "from data.D2401 import DATE, INPUTS, PARAMS"
   ]
  }
 ],
 "metadata": {
  "kernelspec": {
   "display_name": ".venv",
   "language": "python",
   "name": "python3"
  },
  "language_info": {
   "codemirror_mode": {
    "name": "ipython",
    "version": 3
   },
   "file_extension": ".py",
   "mimetype": "text/x-python",
   "name": "python",
   "nbconvert_exporter": "python",
   "pygments_lexer": "ipython3",
   "version": "3.10.10"
  }
 },
 "nbformat": 4,
 "nbformat_minor": 2
}
