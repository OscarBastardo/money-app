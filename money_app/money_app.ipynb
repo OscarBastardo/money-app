{
 "cells": [
  {
   "cell_type": "markdown",
   "metadata": {},
   "source": [
    "# Money App\n",
    "\n",
    "This notebook is to design and develop all-encompassing money management system for Oscar and Rose.\n",
    "\n",
    "\n",
    "## How to Use\n",
    "1. Create a file in the `data` directory with the name format `[D]YYMM.py` for the month due for processing.\n",
    "2. Fill out the `[D]YYMM.py` file with the relevant information.\n",
    "3. Run the `get_split_difference`, `get_saving_pots_contribution_per_account` and `get_saving_pots_projection_df` functions from the `money_app` module."
   ]
  },
  {
   "cell_type": "markdown",
   "metadata": {},
   "source": [
    "## January 2024"
   ]
  },
  {
   "cell_type": "code",
   "execution_count": 1,
   "metadata": {},
   "outputs": [
    {
     "name": "stdout",
     "output_type": "stream",
     "text": [
      "Total spending: 4198.98\n",
      "Expected spending: (2723.589607539929, 1475.3903924600704)\n",
      "Actual spending: (2879.84, 1319.1399999999999)\n",
      "Split difference: (-156.250392460071, 156.25039246007054)\n"
     ]
    }
   ],
   "source": [
    "from functions import *\n",
    "from data.D2401 import INPUTS, PARAMS\n",
    "\n",
    "expected_spending = get_expected_spending(INPUTS, PARAMS)\n",
    "actual_spending = get_actual_spending(INPUTS)\n",
    "assert sum(expected_spending) == sum(actual_spending)\n",
    "\n",
    "print(\"Total spending:\", get_spending_total(INPUTS))\n",
    "print(\"Expected spending:\", expected_spending)\n",
    "print(\"Actual spending:\", actual_spending)\n",
    "print(\"Split difference:\", get_split_difference(INPUTS, PARAMS))"
   ]
  },
  {
   "cell_type": "markdown",
   "metadata": {},
   "source": [
    "## February 2024"
   ]
  },
  {
   "cell_type": "code",
   "execution_count": 2,
   "metadata": {},
   "outputs": [
    {
     "name": "stdout",
     "output_type": "stream",
     "text": [
      "Total spending: 4960.91\n",
      "Expected spending: (3217.8012088509377, 1743.108791149062)\n",
      "Actual spending: (3589.3599999999997, 1371.5500000000002)\n",
      "Split difference: (-371.558791149062, 371.5587911490618)\n"
     ]
    }
   ],
   "source": [
    "from functions import *\n",
    "from data.D2402 import INPUTS, PARAMS\n",
    "\n",
    "expected_spending = get_expected_spending(INPUTS, PARAMS)\n",
    "actual_spending = get_actual_spending(INPUTS)\n",
    "assert sum(expected_spending) == sum(actual_spending)\n",
    "\n",
    "print(\"Total spending:\", get_spending_total(INPUTS))\n",
    "print(\"Expected spending:\", expected_spending)\n",
    "print(\"Actual spending:\", actual_spending)\n",
    "print(\"Split difference:\", get_split_difference(INPUTS, PARAMS))"
   ]
  }
 ],
 "metadata": {
  "kernelspec": {
   "display_name": ".venv",
   "language": "python",
   "name": "python3"
  },
  "language_info": {
   "codemirror_mode": {
    "name": "ipython",
    "version": 3
   },
   "file_extension": ".py",
   "mimetype": "text/x-python",
   "name": "python",
   "nbconvert_exporter": "python",
   "pygments_lexer": "ipython3",
   "version": "3.10.10"
  }
 },
 "nbformat": 4,
 "nbformat_minor": 2
}
